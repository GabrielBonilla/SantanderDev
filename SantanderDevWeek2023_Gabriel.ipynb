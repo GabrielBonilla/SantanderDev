{
  "nbformat": 4,
  "nbformat_minor": 0,
  "metadata": {
    "colab": {
      "provenance": [],
      "include_colab_link": true
    },
    "kernelspec": {
      "name": "python3",
      "display_name": "Python 3"
    },
    "language_info": {
      "name": "python"
    }
  },
  "cells": [
    {
      "cell_type": "markdown",
      "metadata": {
        "id": "view-in-github",
        "colab_type": "text"
      },
      "source": [
        "<a href=\"https://colab.research.google.com/github/GabrielBonilla/SantanderDev/blob/main/SantanderDevWeek2023_Gabriel.ipynb\" target=\"_parent\"><img src=\"https://colab.research.google.com/assets/colab-badge.svg\" alt=\"Open In Colab\"/></a>"
      ]
    },
    {
      "cell_type": "markdown",
      "source": [
        "# Santander Dev Week 2023 (ETL com Python)"
      ],
      "metadata": {
        "id": "BPJQsTCULaC-"
      }
    },
    {
      "cell_type": "markdown",
      "source": [
        "**Contexto:** Você é um cientista de dados no Santander e recebeu a tarefa de envolver seus clientes de maneira mais personalizada. Seu objetivo é usar o poder da IA Generativa para criar mensagens de marketing personalizadas que serão entregues a cada cliente.\n",
        "\n",
        "**Condições do Problema:**\n",
        "\n",
        "1. Você recebeu uma planilha simples, em formato CSV ('SDW2023.csv'), com uma lista de IDs de usuário do banco:\n",
        "  ```\n",
        "  UserID\n",
        "  1\n",
        "  2\n",
        "  3\n",
        "  4\n",
        "  5\n",
        "  ```\n",
        "2. Seu trabalho é consumir o endpoint `GET https://sdw-2023-prd.up.railway.app/users/{id}` (API da Santander Dev Week 2023) para obter os dados de cada cliente.\n",
        "3. Depois de obter os dados dos clientes, você vai usar a API do ChatGPT (OpenAI) para gerar uma mensagem de marketing personalizada para cada cliente. Essa mensagem deve enfatizar a importância dos investimentos.\n",
        "4. Uma vez que a mensagem para cada cliente esteja pronta, você vai enviar essas informações de volta para a API, atualizando a lista de \"news\" de cada usuário usando o endpoint `PUT https://sdw-2023-prd.up.railway.app/users/{id}`.\n",
        "\n"
      ],
      "metadata": {
        "id": "k5fA5OrXt1a3"
      }
    },
    {
      "cell_type": "code",
      "source": [
        "# Utilize sua própria URL se quiser ;)\n",
        "# Repositório da API: https://github.com/digitalinnovationone/santander-dev-week-2023-api\n",
        "sdw2023_api_url = 'https://sdw-2023-prd.up.railway.app'"
      ],
      "metadata": {
        "id": "FKqLC_CWoYqR"
      },
      "execution_count": null,
      "outputs": []
    },
    {
      "cell_type": "markdown",
      "source": [
        "## **E**xtract\n",
        "\n",
        "Extraia a lista de IDs de usuário a partir do arquivo CSV. Para cada ID, faça uma requisição GET para obter os dados do usuário correspondente."
      ],
      "metadata": {
        "id": "9dfI-o7gLRq9"
      }
    },
    {
      "cell_type": "code",
      "execution_count": null,
      "metadata": {
        "id": "NYydpX_GLRCB",
        "colab": {
          "base_uri": "https://localhost:8080/"
        },
        "outputId": "7b484d95-db48-4dfc-bf94-9aac12a0c295"
      },
      "outputs": [
        {
          "output_type": "stream",
          "name": "stdout",
          "text": [
            "[1168, 1169, 1170, 1422]\n"
          ]
        }
      ],
      "source": [
        "import pandas as pd\n",
        "\n",
        "df = pd.read_csv('SDW2023.csv')\n",
        "user_ids = df['UserID'].tolist()\n",
        "print(user_ids)"
      ]
    },
    {
      "cell_type": "code",
      "source": [
        "import requests\n",
        "import json\n",
        "\n",
        "def get_user(id):\n",
        "  response = requests.get(f'{sdw2023_api_url}/users/{id}')\n",
        "  return response.json() if response.status_code == 200 else None\n",
        "\n",
        "users = [user for id in user_ids if (user := get_user(id)) is not None]\n",
        "print(json.dumps(users, indent=2))"
      ],
      "metadata": {
        "id": "F5XOuCZGSTGw",
        "colab": {
          "base_uri": "https://localhost:8080/"
        },
        "outputId": "c67976c2-bff4-4b36-8e41-57d621fff88b"
      },
      "execution_count": null,
      "outputs": [
        {
          "output_type": "stream",
          "name": "stdout",
          "text": [
            "[\n",
            "  {\n",
            "    \"id\": 1168,\n",
            "    \"name\": \"Cornelios\",\n",
            "    \"account\": {\n",
            "      \"id\": 1243,\n",
            "      \"number\": \"0099\",\n",
            "      \"agency\": \"0001\",\n",
            "      \"balance\": 500.0,\n",
            "      \"limit\": 1000.0\n",
            "    },\n",
            "    \"card\": {\n",
            "      \"id\": 1142,\n",
            "      \"number\": \"**** **** **** 9076\",\n",
            "      \"limit\": 1500.0\n",
            "    },\n",
            "    \"features\": [],\n",
            "    \"news\": [\n",
            "      {\n",
            "        \"id\": 2966,\n",
            "        \"icon\": \"https://digitalinnovationone.github.io/santander-dev-week-2023-api/icons/credit.svg\",\n",
            "        \"description\": \"Seu limite pode lhe garantir milhas para viagens, entre em contato com nossos atendentes para saber mais\"\n",
            "      },\n",
            "      {\n",
            "        \"id\": 2967,\n",
            "        \"icon\": \"https://digitalinnovationone.github.io/santander-dev-week-2023-api/icons/credit.svg\",\n",
            "        \"description\": \"Ol\\u00e1 Cornelios Seu limite pode lhe garantir milhas para viagens, entre em contato com nossos atendentes para saber mais\"\n",
            "      },\n",
            "      {\n",
            "        \"id\": 2968,\n",
            "        \"icon\": \"https://digitalinnovationone.github.io/santander-dev-week-2023-api/icons/credit.svg\",\n",
            "        \"description\": \"Ol\\u00e1 Cornelios seu limite pode lhe garantir milhas para viagens, entre em contato com nossos atendentes para saber mais\"\n",
            "      }\n",
            "    ]\n",
            "  },\n",
            "  {\n",
            "    \"id\": 1169,\n",
            "    \"name\": \"Mano Menezes\",\n",
            "    \"account\": {\n",
            "      \"id\": 1244,\n",
            "      \"number\": \"0081\",\n",
            "      \"agency\": \"0001\",\n",
            "      \"balance\": 500.0,\n",
            "      \"limit\": 1000.0\n",
            "    },\n",
            "    \"card\": {\n",
            "      \"id\": 1143,\n",
            "      \"number\": \"**** **** **** 0891\",\n",
            "      \"limit\": 1500.0\n",
            "    },\n",
            "    \"features\": [],\n",
            "    \"news\": [\n",
            "      {\n",
            "        \"id\": 2969,\n",
            "        \"icon\": \"https://digitalinnovationone.github.io/santander-dev-week-2023-api/icons/credit.svg\",\n",
            "        \"description\": \"Seu limite pode lhe garantir milhas para viagens, entre em contato com nossos atendentes para saber mais\"\n",
            "      },\n",
            "      {\n",
            "        \"id\": 2970,\n",
            "        \"icon\": \"https://digitalinnovationone.github.io/santander-dev-week-2023-api/icons/credit.svg\",\n",
            "        \"description\": \"Ol\\u00e1 Mano Menezes Seu limite pode lhe garantir milhas para viagens, entre em contato com nossos atendentes para saber mais\"\n",
            "      },\n",
            "      {\n",
            "        \"id\": 2971,\n",
            "        \"icon\": \"https://digitalinnovationone.github.io/santander-dev-week-2023-api/icons/credit.svg\",\n",
            "        \"description\": \"Ol\\u00e1 Mano Menezes seu limite pode lhe garantir milhas para viagens, entre em contato com nossos atendentes para saber mais\"\n",
            "      }\n",
            "    ]\n",
            "  },\n",
            "  {\n",
            "    \"id\": 1170,\n",
            "    \"name\": \"Enner Violencia\",\n",
            "    \"account\": {\n",
            "      \"id\": 1245,\n",
            "      \"number\": \"0033\",\n",
            "      \"agency\": \"0003\",\n",
            "      \"balance\": 500.0,\n",
            "      \"limit\": 1000.0\n",
            "    },\n",
            "    \"card\": {\n",
            "      \"id\": 1144,\n",
            "      \"number\": \"**** **** **** 3033\",\n",
            "      \"limit\": 1500.0\n",
            "    },\n",
            "    \"features\": [],\n",
            "    \"news\": [\n",
            "      {\n",
            "        \"id\": 2972,\n",
            "        \"icon\": \"https://digitalinnovationone.github.io/santander-dev-week-2023-api/icons/credit.svg\",\n",
            "        \"description\": \"Seu limite pode lhe garantir milhas para viagens, entre em contato com nossos atendentes para saber mais\"\n",
            "      },\n",
            "      {\n",
            "        \"id\": 2973,\n",
            "        \"icon\": \"https://digitalinnovationone.github.io/santander-dev-week-2023-api/icons/credit.svg\",\n",
            "        \"description\": \"Ol\\u00e1 Enner Violencia Seu limite pode lhe garantir milhas para viagens, entre em contato com nossos atendentes para saber mais\"\n",
            "      },\n",
            "      {\n",
            "        \"id\": 2974,\n",
            "        \"icon\": \"https://digitalinnovationone.github.io/santander-dev-week-2023-api/icons/credit.svg\",\n",
            "        \"description\": \"Ol\\u00e1 Enner Violencia seu limite pode lhe garantir milhas para viagens, entre em contato com nossos atendentes para saber mais\"\n",
            "      }\n",
            "    ]\n",
            "  },\n",
            "  {\n",
            "    \"id\": 1422,\n",
            "    \"name\": \"Josneiverson\",\n",
            "    \"account\": {\n",
            "      \"id\": 1480,\n",
            "      \"number\": \"00034\",\n",
            "      \"agency\": \"0001\",\n",
            "      \"balance\": 900.0,\n",
            "      \"limit\": 300.0\n",
            "    },\n",
            "    \"card\": {\n",
            "      \"id\": 1361,\n",
            "      \"number\": \"**** **** **** 0643\",\n",
            "      \"limit\": 950.0\n",
            "    },\n",
            "    \"features\": [],\n",
            "    \"news\": [\n",
            "      {\n",
            "        \"id\": 2975,\n",
            "        \"icon\": \"https://digitalinnovationone.github.io/santander-dev-week-2023-api/icons/credit.svg\",\n",
            "        \"description\": \"Utilize seu cart\\u00e2o em compras para aumentar seu limite de cr\\u00e9dito\"\n",
            "      },\n",
            "      {\n",
            "        \"id\": 2976,\n",
            "        \"icon\": \"https://digitalinnovationone.github.io/santander-dev-week-2023-api/icons/credit.svg\",\n",
            "        \"description\": \"Ol\\u00e1 Josneiverson Utilize seu cart\\u00e2o em compras para aumentar seu limite de cr\\u00e9dito\"\n",
            "      },\n",
            "      {\n",
            "        \"id\": 2977,\n",
            "        \"icon\": \"https://digitalinnovationone.github.io/santander-dev-week-2023-api/icons/credit.svg\",\n",
            "        \"description\": \"Ol\\u00e1 Josneiverson voc\\u00ea sabia que utilizar seu cart\\u00e2o de cr\\u00e9dito para compras pode aumentar limite de cr\\u00e9dito?\"\n",
            "      }\n",
            "    ]\n",
            "  }\n",
            "]\n"
          ]
        }
      ]
    },
    {
      "cell_type": "markdown",
      "source": [
        "## **T**ransform\n",
        "\n",
        "Utilize a API do OpenAI GPT-4 para gerar uma mensagem de marketing personalizada para cada usuário."
      ],
      "metadata": {
        "id": "cWoqInB4TF1x"
      }
    },
    {
      "cell_type": "code",
      "source": [
        "def generate_news(user):\n",
        "  limite = user['card']\n",
        "  if limite['limit']  >= 1000:\n",
        "    mensagem = f\"Olá {user['name']} seu limite pode lhe garantir milhas para viagens, entre em contato com nossos atendentes para saber mais\"\n",
        "  else:\n",
        "    mensagem = f\"Olá {user['name']} você sabia que utilizar seu cartâo de crédito para compras pode aumentar limite de crédito?\"\n",
        "  return mensagem\n",
        "for user in users:\n",
        "  news = generate_news(user)\n",
        "  print(news)\n",
        "  user['news'].append({\n",
        "      \"icon\": \"https://digitalinnovationone.github.io/santander-dev-week-2023-api/icons/credit.svg\",\n",
        "      \"description\": news\n",
        "  })"
      ],
      "metadata": {
        "id": "n1w78kNxTrZY",
        "colab": {
          "base_uri": "https://localhost:8080/"
        },
        "outputId": "01be1226-4c70-4ba7-aef3-aa0c270f58bf"
      },
      "execution_count": null,
      "outputs": [
        {
          "output_type": "stream",
          "name": "stdout",
          "text": [
            "Olá Cornelios seu limite pode lhe garantir milhas para viagens, entre em contato com nossos atendentes para saber mais\n",
            "Olá Mano Menezes seu limite pode lhe garantir milhas para viagens, entre em contato com nossos atendentes para saber mais\n",
            "Olá Enner Violencia seu limite pode lhe garantir milhas para viagens, entre em contato com nossos atendentes para saber mais\n",
            "Olá Josneiverson você sabia que utilizar seu cartâo de crédito para compras pode aumentar limite de crédito?\n"
          ]
        }
      ]
    },
    {
      "cell_type": "markdown",
      "source": [
        "## **L**oad\n",
        "\n",
        "Atualize a lista de \"news\" de cada usuário na API com a nova mensagem gerada."
      ],
      "metadata": {
        "id": "kNuP0SDUZMBY"
      }
    },
    {
      "cell_type": "code",
      "source": [
        "def update_user(user):\n",
        "  response = requests.put(f\"{sdw2023_api_url}/users/{user['id']}\", json=user)\n",
        "  return True if response.status_code == 200 else False\n",
        "\n",
        "for user in users:\n",
        "  success = update_user(user)\n",
        "  print(f\"User {user['name']} updated? {success}!\")"
      ],
      "metadata": {
        "id": "YefWfYBoZMN2",
        "colab": {
          "base_uri": "https://localhost:8080/"
        },
        "outputId": "b472cd16-b319-4932-f537-3333d41afe90"
      },
      "execution_count": null,
      "outputs": [
        {
          "output_type": "stream",
          "name": "stdout",
          "text": [
            "User Cornelios updated? True!\n",
            "User Mano Menezes updated? True!\n",
            "User Enner Violencia updated? True!\n",
            "User Josneiverson updated? True!\n"
          ]
        }
      ]
    }
  ]
}